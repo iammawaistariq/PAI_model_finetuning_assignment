{
  "nbformat": 4,
  "nbformat_minor": 0,
  "metadata": {
    "colab": {
      "provenance": [],
      "gpuType": "T4",
      "include_colab_link": true
    },
    "kernelspec": {
      "name": "python3",
      "display_name": "Python 3"
    },
    "language_info": {
      "name": "python"
    },
    "accelerator": "GPU",
    },
  "cells": [
    {
      "cell_type": "markdown",
      "metadata": {
        "id": "view-in-github",
        "colab_type": "text"
      },
      "source": [
        "<a href=\"https://colab.research.google.com/github/iammawaistariq/PAI_model_finetuning_assignment/blob/main/Urdu_Tweet_Dataset.ipynb\" target=\"_parent\"><img src=\"https://colab.research.google.com/assets/colab-badge.svg\" alt=\"Open In Colab\"/></a>"
      ]
    },
    {
      "cell_type": "markdown",
      "source": [
        "This paper fine-tune BERT model for Urdu Tweets classifying:\n",
        "- Threatening or Non-threatening\n",
        "- (Threatening) Individual or Group"
      ],
      "metadata": {
        "id": "mKJaCz2g9K6g"
      }
    },
    {
      "cell_type": "code",
      "execution_count": 1,
      "metadata": {
        "colab": {
          "base_uri": "https://localhost:8080/"
        },
        "id": "O7gnQurpCN_C",
        "outputId": "75d412fc-194c-4a04-f409-c4d318daacdd"
      },
      "outputs": [
        {
          "output_type": "stream",
          "name": "stdout",
          "text": [
            "\u001b[2K   \u001b[90m━━━━━━━━━━━━━━━━━━━━━━━━━━━━━━━━━━━━━━━━\u001b[0m \u001b[32m363.4/363.4 MB\u001b[0m \u001b[31m3.7 MB/s\u001b[0m eta \u001b[36m0:00:00\u001b[0m\n",
            "\u001b[2K   \u001b[90m━━━━━━━━━━━━━━━━━━━━━━━━━━━━━━━━━━━━━━━━\u001b[0m \u001b[32m13.8/13.8 MB\u001b[0m \u001b[31m31.0 MB/s\u001b[0m eta \u001b[36m0:00:00\u001b[0m\n",
            "\u001b[2K   \u001b[90m━━━━━━━━━━━━━━━━━━━━━━━━━━━━━━━━━━━━━━━━\u001b[0m \u001b[32m24.6/24.6 MB\u001b[0m \u001b[31m34.0 MB/s\u001b[0m eta \u001b[36m0:00:00\u001b[0m\n",
            "\u001b[2K   \u001b[90m━━━━━━━━━━━━━━━━━━━━━━━━━━━━━━━━━━━━━━━━\u001b[0m \u001b[32m883.7/883.7 kB\u001b[0m \u001b[31m24.6 MB/s\u001b[0m eta \u001b[36m0:00:00\u001b[0m\n",
            "\u001b[2K   \u001b[90m━━━━━━━━━━━━━━━━━━━━━━━━━━━━━━━━━━━━━━━━\u001b[0m \u001b[32m664.8/664.8 MB\u001b[0m \u001b[31m3.0 MB/s\u001b[0m eta \u001b[36m0:00:00\u001b[0m\n",
            "\u001b[2K   \u001b[90m━━━━━━━━━━━━━━━━━━━━━━━━━━━━━━━━━━━━━━━━\u001b[0m \u001b[32m211.5/211.5 MB\u001b[0m \u001b[31m3.2 MB/s\u001b[0m eta \u001b[36m0:00:00\u001b[0m\n",
            "\u001b[2K   \u001b[90m━━━━━━━━━━━━━━━━━━━━━━━━━━━━━━━━━━━━━━━━\u001b[0m \u001b[32m56.3/56.3 MB\u001b[0m \u001b[31m10.0 MB/s\u001b[0m eta \u001b[36m0:00:00\u001b[0m\n",
            "\u001b[2K   \u001b[90m━━━━━━━━━━━━━━━━━━━━━━━━━━━━━━━━━━━━━━━━\u001b[0m \u001b[32m127.9/127.9 MB\u001b[0m \u001b[31m8.7 MB/s\u001b[0m eta \u001b[36m0:00:00\u001b[0m\n",
            "\u001b[2K   \u001b[90m━━━━━━━━━━━━━━━━━━━━━━━━━━━━━━━━━━━━━━━━\u001b[0m \u001b[32m207.5/207.5 MB\u001b[0m \u001b[31m5.9 MB/s\u001b[0m eta \u001b[36m0:00:00\u001b[0m\n",
            "\u001b[2K   \u001b[90m━━━━━━━━━━━━━━━━━━━━━━━━━━━━━━━━━━━━━━━━\u001b[0m \u001b[32m21.1/21.1 MB\u001b[0m \u001b[31m47.0 MB/s\u001b[0m eta \u001b[36m0:00:00\u001b[0m\n",
            "\u001b[?25h"
          ]
        }
      ],
      "source": [
        "! pip install -q transformers datasets torch scikit-learn"
      ]
    },
    {
      "cell_type": "code",
      "source": [
        "! pip install -q sentencepiece"
      ],
      "metadata": {
        "id": "FMcGZzbgBpmS"
      },
      "execution_count": 2,
      "outputs": []
    },
    {
      "cell_type": "code",
      "source": [
        "# Importing necessary libraries\n",
        "import torch\n",
        "from transformers import (\n",
        "    AutoTokenizer,\n",
        "    BertTokenizer,\n",
        "    AutoModelForSequenceClassification,\n",
        "    Trainer,\n",
        "    TrainingArguments,\n",
        "    EarlyStoppingCallback,\n",
        "    AutoConfig)\n",
        "\n",
        "from transformers.modeling_utils import PreTrainedModel # Import PreTrainedModel from modeling_utils\n",
        "from datasets import load_dataset, Dataset\n",
        "from sklearn.model_selection import train_test_split\n",
        "import numpy as np\n",
        "from sklearn.metrics import accuracy_score, precision_recall_fscore_support\n",
        "import pandas as pd"
      ],
      "metadata": {
        "id": "FqApPLgtCgB0"
      },
      "execution_count": 3,
      "outputs": []
    },
    {
      "cell_type": "code",
      "source": [],
      "metadata": {
        "id": "_VFANdrsCf5f"
      },
      "execution_count": null,
      "outputs": []
    },
    {
      "cell_type": "code",
      "source": [],
      "metadata": {
        "id": "e_mF4YriBxJi"
      },
      "execution_count": null,
      "outputs": []
    },
    {
      "cell_type": "code",
      "source": [],
      "metadata": {
        "id": "GTdI2oKV_Aig"
      },
      "execution_count": null,
      "outputs": []
    },
    {
      "cell_type": "markdown",
      "source": [
        "# Load and prepare data"
      ],
      "metadata": {
        "id": "xjdUdvGRGgNB"
      }
    },
    {
      "cell_type": "code",
      "source": [
        "import pandas as pd\n",
        "\n",
        "# Load Excel\n",
        "df = pd.read_excel(\"Training Dataset.xlsx\")\n",
        "\n",
        "# Rename for consistency\n",
        "df = df.rename(columns={\"Tweets\": \"text\", \"label\": \"labels\", \"S/G\": \"sg\"})\n",
        "\n",
        "# ➤ Task 1: Threat vs Non-Threat\n",
        "# Labels: 1 = Threat, 0 = Non-threat\n",
        "df = df[df['labels'].isin([0, 1])]  # Keep only valid binary labels\n",
        "\n",
        "# ➤ Task 2: Target Identification (only for threat tweets)\n",
        "# 'sg' values: 0 = Individual, 1 = Group, 2 = Non-threat (so 2 should be excluded)\n",
        "df_threat = df[(df['labels'] == 1) & (df['sg'].isin([0, 1]))].copy()\n",
        "\n",
        "# Create target_labels: 0 = Individual, 1 = Group\n",
        "df_threat['target_labels'] = df_threat['sg'].astype(int)\n"
      ],
      "metadata": {
        "id": "R3T0t8gf_7BH"
      },
      "execution_count": 4,
      "outputs": []
    },
    {
      "cell_type": "code",
      "source": [],
      "metadata": {
        "id": "M-4YzxUaHOMq"
      },
      "execution_count": null,
      "outputs": []
    },
    {
      "cell_type": "code",
      "source": [
        "# Load tokenizer\n",
        "model_name = \"urduhack/roberta-urdu-small\"\n",
        "# model_name = \"bert-base-multilingual-cased\"\n",
        "# model_name = \"wajidhussain/urdu-bert-base-uncased\"\n",
        "# model_name = \"Geotrend/bert-base-ur-cased\"\n",
        "tokenizer = AutoTokenizer.from_pretrained(model_name)\n",
        "\n",
        "def tokenize(batch):\n",
        "    return tokenizer(batch[\"text\"], truncation=True, padding=\"max_length\", max_length=128)"
      ],
      "metadata": {
        "colab": {
          "base_uri": "https://localhost:8080/",
          "height": 177,
          "referenced_widgets": [
            "5252eca557b6487c9913c3916945dfd4",
            "e3c854c8ce764af28c99f9a3dce2b0c4",
            "2a9e28128b8c43fa85df697337c8f1fa",
            "991d09edd8a44a6f99569c5a2cf3318c",
            "d3a9bc12809144ad81d1db2871bf30db",
            "d96d0e77693e4e7a9caf195835c41906",
            "a764117d5fd74c87ba5b08ca59c85a16",
            "00840794df144a8b8092b7c9097431f1",
            "329c97b8995d47e58c66751f13316d86",
            "84cf8a61c6b94ee59d08f09caf8c3ee8",
            "712eb53664f14ca5a0ba6b54c38e4db9",
            "3a76729d94b54aacba0fc2f25273b780",
            "7fd66e3d46634544b7735360f8e8e329",
            "2ad0550a05cb4009a8c37321dd885ae8",
            "4768fd292b79454d8f510e820caa7c89",
            "2868296216b84efcbf1b3bc5b8d3ea8a",
            "b195adf7b1a44e8490eb15dcdd7e647f",
            "c1067059d99e4d97a9c10123c7073b66",
            "ec52153cc8be4f5f9623a2d72b0c09b0",
            "51419513600741f8b56b3f516aef1bd1",
            "bbb4a78ae98944689c35d11376ee6e07",
            "5f71580ffa7743fbaf969d6c0ccbce5a",
            "985107d186a04801b4b73809eee6bc6f",
            "6c57da1675284fc9922738fd609b9b4b",
            "01aa6e035696429089e5c1e7823cc11e",
            "7b9ae5ecd02f4f00a4df3ead2ac49558",
            "c975af30f94f42beaa29a48a1efae297",
            "453794bddace41fbaf03f1d1c7a29dd0",
            "7b3bbb0253e64f0c95f478bb5d77ff8c",
            "5bd1eb93b48a4ff3a0491bb3e1e31667",
            "6cc73057aad04a80879cd71b5caa72ec",
            "47cacac10ab645b895e19c3d04b4536f",
            "d5b48a20c3cd400aaac3cafee585449d",
            "a1e88e42797e4fb4b30c46556600344f",
            "f76ea04622624769bb2f64e4598f840d",
            "47b305f6f431481eaf1b360502c1566a",
            "8c4eb2d0aa6845bf86a89a4821877bce",
            "0e83d7becc644587a16b6fed56987a06",
            "97bb88512b594a31a59e9a62195f430a",
            "e2fe464de6df4dd29104d6a2fa516eeb",
            "038169a484534714bf52ced2b2a528ec",
            "ced7d3c7e62a459aa688dd1b5c6df47b",
            "10487a5c00f449d3b073c4d77d8ee31a",
            "d3279ef84b844164a3d5b676f75662ae",
            "dcca80b5fc0e4e1fb2a0a3bbe9f89d92",
            "d24916d2215246cfa944857208c4cd22",
            "a6b9648a78dd4d8aab3215721c87ec47",
            "fe2ebee143144655bdafe26bb28cf96f",
            "76f3d29ff60b423abb63a272028ad887",
            "717f8fcca0e641de96f9c0c5a803752f",
            "317d1783ac7e442d8e182ed3ab28826a",
            "f038682f9b21402b936dbb14eaa1e800",
            "5dbfc82ec6fd4406be7d7052799c6c9d",
            "cbb205b755f94841af5a610c6d59ccb8",
            "9458babc89484deaba1d6742c1ae6bdd"
          ]
        },
        "id": "caKKP-qsC1gU",
        "outputId": "0ba2988a-4916-479e-ed22-9c6284310e97"
      },
      "execution_count": 11,
      "outputs": [
        {
          "output_type": "display_data",
          "data": {
            "text/plain": [
              "tokenizer_config.json:   0%|          | 0.00/62.0 [00:00<?, ?B/s]"
            ],
            "application/vnd.jupyter.widget-view+json": {
              "version_major": 2,
              "version_minor": 0,
              "model_id": "5252eca557b6487c9913c3916945dfd4"
            }
          },
          "metadata": {}
        },
        {
          "output_type": "display_data",
          "data": {
            "text/plain": [
              "config.json:   0%|          | 0.00/516 [00:00<?, ?B/s]"
            ],
            "application/vnd.jupyter.widget-view+json": {
              "version_major": 2,
              "version_minor": 0,
              "model_id": "3a76729d94b54aacba0fc2f25273b780"
            }
          },
          "metadata": {}
        },
        {
          "output_type": "display_data",
          "data": {
            "text/plain": [
              "vocab.json:   0%|          | 0.00/1.61M [00:00<?, ?B/s]"
            ],
            "application/vnd.jupyter.widget-view+json": {
              "version_major": 2,
              "version_minor": 0,
              "model_id": "985107d186a04801b4b73809eee6bc6f"
            }
          },
          "metadata": {}
        },
        {
          "output_type": "display_data",
          "data": {
            "text/plain": [
              "merges.txt:   0%|          | 0.00/1.15M [00:00<?, ?B/s]"
            ],
            "application/vnd.jupyter.widget-view+json": {
              "version_major": 2,
              "version_minor": 0,
              "model_id": "a1e88e42797e4fb4b30c46556600344f"
            }
          },
          "metadata": {}
        },
        {
          "output_type": "display_data",
          "data": {
            "text/plain": [
              "special_tokens_map.json:   0%|          | 0.00/772 [00:00<?, ?B/s]"
            ],
            "application/vnd.jupyter.widget-view+json": {
              "version_major": 2,
              "version_minor": 0,
              "model_id": "dcca80b5fc0e4e1fb2a0a3bbe9f89d92"
            }
          },
          "metadata": {}
        }
      ]
    },
    {
      "cell_type": "code",
      "source": [],
      "metadata": {
        "id": "GMcGYtzuE2ve"
      },
      "execution_count": null,
      "outputs": []
    },
    {
      "cell_type": "code",
      "source": [
        "from sklearn.model_selection import train_test_split\n",
        "from datasets import Dataset\n",
        "\n",
        "# ➤ Dataset for Task 1 (Threat vs Non-Threat)\n",
        "df_task1 = df[[\"text\", \"labels\"]].copy()\n",
        "train_df1, test_df1 = train_test_split(\n",
        "    df_task1,\n",
        "    test_size=0.2,\n",
        "    stratify=df_task1[\"labels\"],\n",
        "    random_state=42\n",
        ")\n",
        "\n",
        "# Convert to Hugging Face Dataset format\n",
        "dataset1 = {\n",
        "    \"train\": Dataset.from_pandas(train_df1.reset_index(drop=True)),\n",
        "    \"test\": Dataset.from_pandas(test_df1.reset_index(drop=True))\n",
        "}\n",
        "\n",
        "# Tokenize\n",
        "dataset1[\"train\"] = dataset1[\"train\"].map(tokenize)\n",
        "dataset1[\"test\"] = dataset1[\"test\"].map(tokenize)\n",
        "\n",
        "# ➤ Dataset for Task 2 (Target Identification for Threats Only)\n",
        "df_task2 = df_threat[[\"text\", \"target_labels\"]].copy()\n",
        "train_df2, test_df2 = train_test_split(\n",
        "    df_task2,\n",
        "    test_size=0.2,\n",
        "    stratify=df_task2[\"target_labels\"],\n",
        "    random_state=42\n",
        ")\n",
        "\n",
        "# Convert to Hugging Face Dataset format\n",
        "dataset2 = {\n",
        "    \"train\": Dataset.from_pandas(train_df2.rename(columns={\"target_labels\": \"labels\"}).reset_index(drop=True)),\n",
        "    \"test\": Dataset.from_pandas(test_df2.rename(columns={\"target_labels\": \"labels\"}).reset_index(drop=True))\n",
        "}\n",
        "\n",
        "# Tokenize\n",
        "dataset2[\"train\"] = dataset2[\"train\"].map(tokenize)\n",
        "dataset2[\"test\"] = dataset2[\"test\"].map(tokenize)\n"
      ],
      "metadata": {
        "colab": {
          "base_uri": "https://localhost:8080/",
          "height": 145,
          "referenced_widgets": [
            "70574795b9544cf38c4c53196a00a1d1",
            "232a6371f63e4adfb3366a045ffcdf37",
            "c8e2d4312f5b46869431fc0b7e0dc4d8",
            "94b9932d115c448b96fa9384aec2ff7b",
            "4c390d83bc0448f88e987312f760ef19",
            "2c11149411e04981b8ade9a8de373cf8",
            "1e60d63225f14dd3afb13a513babcca2",
            "f06653ee17474c539699b71500eb5b70",
            "dc208f098d20423fa76a29ab3335e9cf",
            "d76a847ef76c42f19d7c87c124fedd9e",
            "5f630c614c1b4de08f3a223e80bdf885",
            "33c5b4cc4a3d41c7a9517f1806401dff",
            "4d05fecf9cb5439eaec9d44aadb1e3f1",
            "4f2eec43ef0c460bbbdc30110933b7b4",
            "6e78a0d6dba54a4b800bd2f907d20477",
            "7c1e0d7cb00c45a39bb6b6918bd9832e",
            "e6caa055ff6941f4be45b284ff114199",
            "df07ac83fbac41db83819cfd33071893",
            "55b647fb27e8458c87ca7f091ec8fd38",
            "61070412170c469c9e8c90d247d88aa7",
            "b596100b8cf547f5bd04165706564082",
            "28912876376c41a491a33487b2ee36d9",
            "98b4313d49ca45cf8d57d6d9ceb5ae30",
            "66c8ec8cb17d4aa09efea75f0febcbdf",
            "3140f40e4b6044aab245780e5d51dd7c",
            "2384cb6f70d449b8961671a4f3a95b71",
            "c865991c82e64a5ea70b77fff4e024d5",
            "81b08e837ab543d18240d861a851139a",
            "cb5326a210d84ef0aabae284675391f6",
            "ee615b37a5ca4d689cc149b265bf5e60",
            "311e67cdfe4044f7a2822174f2aa55eb",
            "28437d93981441c2840510daa1b14167",
            "da18f0ce8bdb465197e7db01d7ffe78a",
            "a2e50ec2bda84ff0ac7e05ee284fd520",
            "82f2a229a6c7489fb7fed5710b3f91ae",
            "4ca12c1a670946618f8a9d534c64f54b",
            "e508d4b5b5a1425a9f68c799c33817b1",
            "75fe0d54e3ee4b369d7b03fe9449f5af",
            "a30b19b84adf4b40a540d9cafb3be584",
            "5a3e21ff96ec4ab5ab0107c897b97019",
            "200b55bd2d2c4ae49d837cd27929a142",
            "25e14788982f405185aacfdf6b0b6470",
            "594101f160014d8b873603efd8b4b1f4",
            "64fff4556d21423ba1116d4bf9958962"
          ]
        },
        "id": "r2xGiedCFmSa",
        "outputId": "e5402485-98c3-45c1-9644-3a234581cb85"
      },
      "execution_count": 12,
      "outputs": [
        {
          "output_type": "display_data",
          "data": {
            "text/plain": [
              "Map:   0%|          | 0/2851 [00:00<?, ? examples/s]"
            ],
            "application/vnd.jupyter.widget-view+json": {
              "version_major": 2,
              "version_minor": 0,
              "model_id": "70574795b9544cf38c4c53196a00a1d1"
            }
          },
          "metadata": {}
        },
        {
          "output_type": "display_data",
          "data": {
            "text/plain": [
              "Map:   0%|          | 0/713 [00:00<?, ? examples/s]"
            ],
            "application/vnd.jupyter.widget-view+json": {
              "version_major": 2,
              "version_minor": 0,
              "model_id": "33c5b4cc4a3d41c7a9517f1806401dff"
            }
          },
          "metadata": {}
        },
        {
          "output_type": "display_data",
          "data": {
            "text/plain": [
              "Map:   0%|          | 0/1425 [00:00<?, ? examples/s]"
            ],
            "application/vnd.jupyter.widget-view+json": {
              "version_major": 2,
              "version_minor": 0,
              "model_id": "98b4313d49ca45cf8d57d6d9ceb5ae30"
            }
          },
          "metadata": {}
        },
        {
          "output_type": "display_data",
          "data": {
            "text/plain": [
              "Map:   0%|          | 0/357 [00:00<?, ? examples/s]"
            ],
            "application/vnd.jupyter.widget-view+json": {
              "version_major": 2,
              "version_minor": 0,
              "model_id": "a2e50ec2bda84ff0ac7e05ee284fd520"
            }
          },
          "metadata": {}
        }
      ]
    },
    {
      "cell_type": "code",
      "source": [],
      "metadata": {
        "id": "SnsEzP8QFmPM"
      },
      "execution_count": null,
      "outputs": []
    },
    {
      "cell_type": "code",
      "source": [
        "print(df['labels'].value_counts())\n",
        "print(df_threat['target_labels'].value_counts())\n",
        "\n",
        "# 2. Check duplicate texts\n",
        "print(\"Duplicate tweets:\", df.duplicated(subset=\"text\").sum())\n",
        "\n",
        "# 3. Manually inspect the train/test text\n",
        "for i in range(110,115):\n",
        "    print(\"Train:\", dataset1[\"train\"][i]['text'])\n",
        "    print(\"Test: \", dataset1[\"test\"][i]['text'])\n"
      ],
      "metadata": {
        "id": "ZvUXOL-VIrZK",
        "colab": {
          "base_uri": "https://localhost:8080/"
        },
        "outputId": "7e3be0f2-b183-4bcb-8eca-3f31a42c8999"
      },
      "execution_count": 13,
      "outputs": [
        {
          "output_type": "stream",
          "name": "stdout",
          "text": [
            "labels\n",
            "1    1782\n",
            "0    1782\n",
            "Name: count, dtype: int64\n",
            "target_labels\n",
            "0    1341\n",
            "1     441\n",
            "Name: count, dtype: int64\n",
            "Duplicate tweets: 1\n",
            "Train: بالکل یہ سچ اور حقیقت ہے کہ چڑهائی کے دوران گاڑی کا گیئر تبدیل کرنا خطرناک اور نقصان ده ثابت ہو سکتا ہے\n",
            "Test:  اب وڈیو حکومت کے پاس ہے وہ جج کو بلیک میل کرسکتی ہے،ایسےکردار کےحامل جج کوبہت لوگ بلیک میل کرسکتےہیں\n",
            "Train: اس وقت پاکستان میں جو حکومت ہے وہ انڈیا نواز نہیں ہے اب انڈیا کے ٹکرے ہونے سے خود انڈیا بھی نہیں روک پائے گا\n",
            "Test:  شیطان بھی کیا یاد کرے گا کہ کس شخص سے پالا پڑا تھا\n",
            "Train: تمہیں کیا معلوم خون کے آنسو رونا تمہیں کیا معلوم دل کا آنکھ میں آنا\n",
            "Test:  اب ہم کو چُپ نہیں رہنا اب ہم انڈیا کی بجا کے رکھیے گۓ\n",
            "Train: بٹھی کتے خنظیر مادرچود یہ وقت نہیں ہے کے تو ابھی بھی ان پر وار کصے اپنے باپ پر کر\n",
            "Test:  آج بھارت نےپاکستان کی حدود میں موجود ایک سکول اور ہسپتال پر حملہ کیا ہے۔\n",
            "Train: یہ تھوک کر چاٹنے والی بات ویسے غلط ہے اپکو دیکھ کر صرف تھوکنا بنتا ہے اور چاٹنا آپکا بنتا ہے\n",
            "Test:  تمہاری ہیجڑا فورس ایک نہتے کے سامنے بکری بنی ہے ڈوب مرو\n"
          ]
        }
      ]
    },
    {
      "cell_type": "code",
      "source": [],
      "metadata": {
        "id": "2y2rB9UrIqpq"
      },
      "execution_count": null,
      "outputs": []
    },
    {
      "cell_type": "code",
      "source": [
        "# Metrics\n",
        "def compute_metrics(pred):\n",
        "    preds = np.argmax(pred.predictions, axis=1)\n",
        "    acc = accuracy_score(pred.label_ids, preds)\n",
        "    p, r, f1, _ = precision_recall_fscore_support(pred.label_ids, preds, average='binary')\n",
        "    return {\"accuracy\": acc, \"precision\": p, \"recall\": r, \"f1\": f1}\n"
      ],
      "metadata": {
        "id": "trxFVe_QACrB"
      },
      "execution_count": 14,
      "outputs": []
    },
    {
      "cell_type": "code",
      "source": [],
      "metadata": {
        "id": "PH12TJziDL_i"
      },
      "execution_count": null,
      "outputs": []
    },
    {
      "cell_type": "code",
      "source": [
        "# from transformers import DataCollatorWithPadding\n",
        "\n",
        "# data_collator = DataCollatorWithPadding(tokenizer, pad_to_multiple_of=8)\n"
      ],
      "metadata": {
        "id": "-OIkNGEBJjbw"
      },
      "execution_count": null,
      "outputs": []
    },
    {
      "cell_type": "code",
      "source": [
        "# Training settings\n",
        "args = TrainingArguments(\n",
        "    output_dir=\"results\",\n",
        "    per_device_train_batch_size=8,\n",
        "    per_device_eval_batch_size=8,\n",
        "    num_train_epochs=5,\n",
        "    learning_rate=2e-5,\n",
        "    weight_decay=0.01,\n",
        "    eval_strategy=\"epoch\",\n",
        "    save_strategy=\"epoch\",\n",
        "    save_total_limit=1,\n",
        "    load_best_model_at_end=True,\n",
        ")\n",
        "\n",
        "config = AutoConfig.from_pretrained(model_name, num_labels=2, hidden_dropout_prob=0.1)\n",
        "\n",
        "# ➤ Model 1: Threat Detection\n",
        "model1 = AutoModelForSequenceClassification.from_pretrained(model_name, config=config)\n",
        "\n",
        "trainer1 = Trainer(\n",
        "    model=model1,\n",
        "    args=args,\n",
        "    train_dataset=dataset1[\"train\"],\n",
        "    eval_dataset=dataset1[\"test\"],\n",
        "    tokenizer=tokenizer,\n",
        "    compute_metrics=compute_metrics,\n",
        "    callbacks=[EarlyStoppingCallback(early_stopping_patience=2)]\n",
        ")\n",
        "\n",
        "# ➤ Model 2: Target Identification\n",
        "model2 = AutoModelForSequenceClassification.from_pretrained(model_name, config=config)\n",
        "trainer2 = Trainer(\n",
        "    model=model2,\n",
        "    args=args,\n",
        "    train_dataset=dataset2[\"train\"],\n",
        "    eval_dataset=dataset2[\"test\"],\n",
        "    tokenizer=tokenizer,\n",
        "    compute_metrics=compute_metrics\n",
        ")"
      ],
      "metadata": {
        "colab": {
          "base_uri": "https://localhost:8080/",
          "height": 246,
          "referenced_widgets": [
            "bd22d3ffaa7f447dab26645f65ace71d",
            "2a6dd9fd9b974040a0e1c83d5c5c58bf",
            "46953a57c053420fbdb9a3475b627a18",
            "46e36a5d52cc447f93bc1530b59bb3ac",
            "76dbcdbfae1b4a30a05ed3604036a7b2",
            "d04c43e2451c4f9e9dc31cdc30dfa4f4",
            "f52a9ec3d4374d7cb79e6d84d888ebfd",
            "8214d08a696847c1bf28f051556ac2bc",
            "8ba289e48bc44f43a60147013daa3861",
            "91a02ef71b1246aa8beb4ab18c7c0690",
            "a29acf267b664feb8117ee96fbdbb114",
            "8ae492a3f8c140f994f98368328ffb40",
            "be7b0ab9c891407383df98aa4535da53",
            "d3c47e004caa485e9d6e3b651f22bae6",
            "d8b806b3e56a49a1b3723ece31b8b977",
            "623e8d339b684261a63420f25d8414ea",
            "601342d6605f42afb0723816b975198b",
            "5c508a89a3134a92aba29271ac8bfff7",
            "1069e77e3abe4387b67bd16748ad4e0b",
            "4daffa3aa661488fb0942caf29afd1a0",
            "bdc6005e6ccf43e38375df0f6d5db372",
            "344c3c77c65d4793854dad1800907b2b"
          ]
        },
        "id": "Pgz52eV3_rfG",
        "outputId": "8f74f909-6332-4497-dd7d-fb51310271e2"
      },
      "execution_count": 15,
      "outputs": [
        {
          "output_type": "display_data",
          "data": {
            "text/plain": [
              "pytorch_model.bin:   0%|          | 0.00/507M [00:00<?, ?B/s]"
            ],
            "application/vnd.jupyter.widget-view+json": {
              "version_major": 2,
              "version_minor": 0,
              "model_id": "bd22d3ffaa7f447dab26645f65ace71d"
            }
          },
          "metadata": {}
        },
        {
          "output_type": "stream",
          "name": "stderr",
          "text": [
            "Some weights of RobertaForSequenceClassification were not initialized from the model checkpoint at urduhack/roberta-urdu-small and are newly initialized: ['classifier.dense.bias', 'classifier.dense.weight', 'classifier.out_proj.bias', 'classifier.out_proj.weight']\n",
            "You should probably TRAIN this model on a down-stream task to be able to use it for predictions and inference.\n",
            "/tmp/ipython-input-15-754726084.py:20: FutureWarning: `tokenizer` is deprecated and will be removed in version 5.0.0 for `Trainer.__init__`. Use `processing_class` instead.\n",
            "  trainer1 = Trainer(\n",
            "Some weights of RobertaForSequenceClassification were not initialized from the model checkpoint at urduhack/roberta-urdu-small and are newly initialized: ['classifier.dense.bias', 'classifier.dense.weight', 'classifier.out_proj.bias', 'classifier.out_proj.weight']\n",
            "You should probably TRAIN this model on a down-stream task to be able to use it for predictions and inference.\n",
            "/tmp/ipython-input-15-754726084.py:32: FutureWarning: `tokenizer` is deprecated and will be removed in version 5.0.0 for `Trainer.__init__`. Use `processing_class` instead.\n",
            "  trainer2 = Trainer(\n"
          ]
        },
        {
          "output_type": "display_data",
          "data": {
            "text/plain": [
              "model.safetensors:   0%|          | 0.00/507M [00:00<?, ?B/s]"
            ],
            "application/vnd.jupyter.widget-view+json": {
              "version_major": 2,
              "version_minor": 0,
              "model_id": "8ae492a3f8c140f994f98368328ffb40"
            }
          },
          "metadata": {}
        }
      ]
    },
    {
      "cell_type": "code",
      "source": [],
      "metadata": {
        "id": "p4C0jNMP_rbT"
      },
      "execution_count": null,
      "outputs": []
    },
    {
      "cell_type": "code",
      "source": [
        "# Train and save\n",
        "trainer1.train()\n",
        "trainer1.save_model(\"threat_classifier\")\n"
      ],
      "metadata": {
        "colab": {
          "base_uri": "https://localhost:8080/",
          "height": 169
        },
        "id": "mMkgmIPY_rYK",
        "outputId": "18443a4c-c081-4410-881b-7055daacce87"
      },
      "execution_count": 16,
      "outputs": [
        {
          "output_type": "display_data",
          "data": {
            "text/plain": [
              "<IPython.core.display.HTML object>"
            ],
            "text/html": [
              "\n",
              "    <div>\n",
              "      \n",
              "      <progress value='1071' max='1785' style='width:300px; height:20px; vertical-align: middle;'></progress>\n",
              "      [1071/1785 04:49 < 03:13, 3.69 it/s, Epoch 3/5]\n",
              "    </div>\n",
              "    <table border=\"1\" class=\"dataframe\">\n",
              "  <thead>\n",
              " <tr style=\"text-align: left;\">\n",
              "      <th>Epoch</th>\n",
              "      <th>Training Loss</th>\n",
              "      <th>Validation Loss</th>\n",
              "      <th>Accuracy</th>\n",
              "      <th>Precision</th>\n",
              "      <th>Recall</th>\n",
              "      <th>F1</th>\n",
              "    </tr>\n",
              "  </thead>\n",
              "  <tbody>\n",
              "    <tr>\n",
              "      <td>1</td>\n",
              "      <td>No log</td>\n",
              "      <td>0.572209</td>\n",
              "      <td>0.705470</td>\n",
              "      <td>0.655983</td>\n",
              "      <td>0.862360</td>\n",
              "      <td>0.745146</td>\n",
              "    </tr>\n",
              "    <tr>\n",
              "      <td>2</td>\n",
              "      <td>0.591600</td>\n",
              "      <td>0.666125</td>\n",
              "      <td>0.727910</td>\n",
              "      <td>0.703518</td>\n",
              "      <td>0.786517</td>\n",
              "      <td>0.742706</td>\n",
              "    </tr>\n",
              "    <tr>\n",
              "      <td>3</td>\n",
              "      <td>0.389900</td>\n",
              "      <td>0.999651</td>\n",
              "      <td>0.695652</td>\n",
              "      <td>0.702624</td>\n",
              "      <td>0.676966</td>\n",
              "      <td>0.689557</td>\n",
              "    </tr>\n",
              "  </tbody>\n",
              "</table><p>"
            ]
          },
          "metadata": {}
        }
      ]
    },
    {
      "cell_type": "code",
      "source": [],
      "metadata": {
        "id": "37ofmMtsNCYq"
      },
      "execution_count": null,
      "outputs": []
    },
    {
      "cell_type": "code",
      "source": [
        "# Task 2- Single/Group\n",
        "trainer2.train()\n",
        "trainer2.save_model(\"target_classifier\")\n"
      ],
      "metadata": {
        "id": "FLOdzvMxNCVS",
        "colab": {
          "base_uri": "https://localhost:8080/",
          "height": 384
        },
        "outputId": "203b1a7d-8aec-4cdc-b4cf-93f1aa484a93"
      },
      "execution_count": 17,
      "outputs": [
        {
          "data": {
            "text/html": [
              "\n",
              "    <div>\n",
              "      \n",
              "      <progress value='699' max='895' style='width:300px; height:20px; vertical-align: middle;'></progress>\n",
              "      [699/895 03:19 < 00:56, 3.49 it/s, Epoch 3.90/5]\n",
              "    </div>\n",
              "    <table border=\"1\" class=\"dataframe\">\n",
              "  <thead>\n",
              " <tr style=\"text-align: left;\">\n",
              "      <th>Epoch</th>\n",
              "      <th>Training Loss</th>\n",
              "      <th>Validation Loss</th>\n",
              "      <th>Accuracy</th>\n",
              "      <th>Precision</th>\n",
              "      <th>Recall</th>\n",
              "      <th>F1</th>\n",
              "    </tr>\n",
              "  </thead>\n",
              "  <tbody>\n",
              "    <tr>\n",
              "      <td>1</td>\n",
              "      <td>No log</td>\n",
              "      <td>0.398201</td>\n",
              "      <td>0.831933</td>\n",
              "      <td>0.769231</td>\n",
              "      <td>0.454545</td>\n",
              "      <td>0.571429</td>\n",
              "    </tr>\n",
              "    <tr>\n",
              "      <td>2</td>\n",
              "      <td>No log</td>\n",
              "      <td>0.406017</td>\n",
              "      <td>0.848739</td>\n",
              "      <td>0.783333</td>\n",
              "      <td>0.534091</td>\n",
              "      <td>0.635135</td>\n",
              "    </tr>\n",
              "    <tr>\n",
              "      <td>3</td>\n",
              "      <td>0.380100</td>\n",
              "      <td>0.666014</td>\n",
              "      <td>0.845938</td>\n",
              "      <td>0.708861</td>\n",
              "      <td>0.636364</td>\n",
              "      <td>0.670659</td>\n",
              "    </tr>\n",
              "  </tbody>\n",
              "</table><p>"
            ],
            "text/plain": [
              "<IPython.core.display.HTML object>"
            ]
          },
          "metadata": {},
          "output_type": "display_data"
        },
        {
          "output_type": "display_data",
          "data": {
            "text/plain": [
              "<IPython.core.display.HTML object>"
            ],
            "text/html": [
              "\n",
              "    <div>\n",
              "      \n",
              "      <progress value='895' max='895' style='width:300px; height:20px; vertical-align: middle;'></progress>\n",
              "      [895/895 04:29, Epoch 5/5]\n",
              "    </div>\n",
              "    <table border=\"1\" class=\"dataframe\">\n",
              "  <thead>\n",
              " <tr style=\"text-align: left;\">\n",
              "      <th>Epoch</th>\n",
              "      <th>Training Loss</th>\n",
              "      <th>Validation Loss</th>\n",
              "      <th>Accuracy</th>\n",
              "      <th>Precision</th>\n",
              "      <th>Recall</th>\n",
              "      <th>F1</th>\n",
              "    </tr>\n",
              "  </thead>\n",
              "  <tbody>\n",
              "    <tr>\n",
              "      <td>1</td>\n",
              "      <td>No log</td>\n",
              "      <td>0.398201</td>\n",
              "      <td>0.831933</td>\n",
              "      <td>0.769231</td>\n",
              "      <td>0.454545</td>\n",
              "      <td>0.571429</td>\n",
              "    </tr>\n",
              "    <tr>\n",
              "      <td>2</td>\n",
              "      <td>No log</td>\n",
              "      <td>0.406017</td>\n",
              "      <td>0.848739</td>\n",
              "      <td>0.783333</td>\n",
              "      <td>0.534091</td>\n",
              "      <td>0.635135</td>\n",
              "    </tr>\n",
              "    <tr>\n",
              "      <td>3</td>\n",
              "      <td>0.380100</td>\n",
              "      <td>0.666014</td>\n",
              "      <td>0.845938</td>\n",
              "      <td>0.708861</td>\n",
              "      <td>0.636364</td>\n",
              "      <td>0.670659</td>\n",
              "    </tr>\n",
              "    <tr>\n",
              "      <td>4</td>\n",
              "      <td>0.380100</td>\n",
              "      <td>0.878799</td>\n",
              "      <td>0.829132</td>\n",
              "      <td>0.721311</td>\n",
              "      <td>0.500000</td>\n",
              "      <td>0.590604</td>\n",
              "    </tr>\n",
              "    <tr>\n",
              "      <td>5</td>\n",
              "      <td>0.380100</td>\n",
              "      <td>0.963627</td>\n",
              "      <td>0.806723</td>\n",
              "      <td>0.620253</td>\n",
              "      <td>0.556818</td>\n",
              "      <td>0.586826</td>\n",
              "    </tr>\n",
              "  </tbody>\n",
              "</table><p>"
            ]
          },
          "metadata": {}
        }
      ]
    },
    {
      "cell_type": "code",
      "source": [],
      "metadata": {
        "id": "u7pM8o61NCSf"
      },
      "execution_count": null,
      "outputs": []
    },
    {
      "cell_type": "code",
      "source": [
        "# prompt: I have a test dataset and I want to check model performance on it.... for both trainers\n",
        "\n",
        "# Evaluate on test datasets\n",
        "results1 = trainer1.evaluate(dataset1[\"test\"])\n",
        "results2 = trainer2.evaluate(dataset2[\"test\"])\n",
        "\n",
        "print(\"Evaluation results for Threat Detection Model:\")\n",
        "print(results1)\n",
        "\n",
        "print(\"\\nEvaluation results for Target Identification Model:\")\n",
        "results2"
      ],
      "metadata": {
        "id": "r5yofFEECIt4",
        "colab": {
          "base_uri": "https://localhost:8080/",
          "height": 313
        },
        "outputId": "c8b3fcca-51b8-46e7-f659-c290a04282f9"
      },
      "execution_count": 18,
      "outputs": [
        {
          "output_type": "display_data",
          "data": {
            "text/plain": [
              "<IPython.core.display.HTML object>"
            ],
            "text/html": [
              "\n",
              "    <div>\n",
              "      \n",
              "      <progress value='90' max='90' style='width:300px; height:20px; vertical-align: middle;'></progress>\n",
              "      [90/90 00:06]\n",
              "    </div>\n",
              "    "
            ]
          },
          "metadata": {}
        },
        {
          "output_type": "display_data",
          "data": {
            "text/plain": [
              "<IPython.core.display.HTML object>"
            ],
            "text/html": [
              "\n",
              "    <div>\n",
              "      \n",
              "      <progress value='45' max='45' style='width:300px; height:20px; vertical-align: middle;'></progress>\n",
              "      [45/45 00:02]\n",
              "    </div>\n",
              "    "
            ]
          },
          "metadata": {}
        },
        {
          "output_type": "stream",
          "name": "stdout",
          "text": [
            "Evaluation results for Threat Detection Model:\n",
            "{'eval_loss': 0.5722087621688843, 'eval_accuracy': 0.7054698457223001, 'eval_precision': 0.655982905982906, 'eval_recall': 0.8623595505617978, 'eval_f1': 0.7451456310679612, 'eval_runtime': 6.3856, 'eval_samples_per_second': 111.658, 'eval_steps_per_second': 14.094, 'epoch': 3.0}\n",
            "\n",
            "Evaluation results for Target Identification Model:\n"
          ]
        },
        {
          "output_type": "execute_result",
          "data": {
            "text/plain": [
              "{'eval_loss': 0.39820146560668945,\n",
              " 'eval_accuracy': 0.8319327731092437,\n",
              " 'eval_precision': 0.7692307692307693,\n",
              " 'eval_recall': 0.45454545454545453,\n",
              " 'eval_f1': 0.5714285714285714,\n",
              " 'eval_runtime': 2.6347,\n",
              " 'eval_samples_per_second': 135.502,\n",
              " 'eval_steps_per_second': 17.08,\n",
              " 'epoch': 5.0}"
            ]
          },
          "metadata": {},
          "execution_count": 18
        }
      ]
    },
    {
      "cell_type": "markdown",
      "source": [
        "Paper has accuracy of 87.15% but my model is showing around 70%. But Why?"
      ],
      "metadata": {
        "id": "xlHa4hhzp1u1"
      }
    },
    {
      "cell_type": "markdown",
      "source": [
        "Paper only mentioned BERT-Urdu model but it's not available with this name. So, I'm using a publicaly available Roberta model. I also tested BERT-multilingual models, but accuracy isn't quite good.\n",
        "\n",
        "Paper using Tweets Dataset but same dataset is not available. I also wrote an email to authors for the dataset request, but no response yet even after 10 days.\n",
        "- So, I used Twitter dataset from another research paper which was used to detect Threatening tweets using ML models.\n"
      ],
      "metadata": {
        "id": "T1QpId4rp9kg"
      }
    },
    {
      "cell_type": "markdown",
      "source": [
        "Task 1: Threatening Tweet detection showing 70% accuracy as compared to the Model's 87% accuracy.\n",
        "\n",
        "Task 2: Detecting Individual vs Group (Threatening) showing 83% which is comparable with the paper's accuracy of 87%.\n",
        "\n",
        "**Reason:** Paper's dataset included lengthy tweets while the used dataset has smaller length tweets. Also, model used was significantly different."
      ],
      "metadata": {
        "id": "1mCehPwg9ano"
      }
    },
    {
      "cell_type": "code",
      "source": [],
      "metadata": {
        "id": "jterqXkzp1gl"
      },
      "execution_count": null,
      "outputs": []
    },
    {
      "cell_type": "code",
      "source": [],
      "metadata": {
        "id": "LanYTbCLp1bh"
      },
      "execution_count": null,
      "outputs": []
    },
    {
      "cell_type": "code",
      "source": [],
      "metadata": {
        "id": "iZMCivXBp1L0"
      },
      "execution_count": null,
      "outputs": []
    }
  ]
}
}
